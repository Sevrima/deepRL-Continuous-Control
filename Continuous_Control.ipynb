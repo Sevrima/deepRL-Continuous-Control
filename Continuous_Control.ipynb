{
 "cells": [
  {
   "cell_type": "markdown",
   "metadata": {},
   "source": [
    "# Continuous Control\n",
    "\n",
    "---\n",
    "\n",
    "\n",
    "### 1. Start the Environment\n",
    "\n",
    "We begin by importing the necessary packages.  If the code cell below returns an error, please revisit the project instructions to double-check that you have installed [Unity ML-Agents](https://github.com/Unity-Technologies/ml-agents/blob/master/docs/Installation.md) and [NumPy](http://www.numpy.org/)."
   ]
  },
  {
   "cell_type": "code",
   "execution_count": 1,
   "metadata": {},
   "outputs": [],
   "source": [
    "#Run the following commented code if you have not installed UnityEnvironment yet\n",
    "#!pip -q install ./python\n"
   ]
  },
  {
   "cell_type": "code",
   "execution_count": 2,
   "metadata": {},
   "outputs": [],
   "source": [
    "from unityagents import UnityEnvironment\n",
    "import numpy as np\n",
    "from collections import deque\n",
    "import matplotlib.pyplot as plt\n",
    "from collections import deque\n",
    "import torch"
   ]
  },
  {
   "cell_type": "markdown",
   "metadata": {},
   "source": [
    " <span style=\"color:red\">First, you must download the environment relevant to your machine (links are given inside readme), then unzip the file.</span>\n",
    "\n",
    "Next, we will start the environment!  **_Before running the code cell below_**, change the `file_name` parameter to match the location of the Unity environment that you downloaded.\n",
    "\n",
    "- **Mac**: `\"path/to/Reacher.app\"`\n",
    "- **Windows** (x86): `\"path/to/Reacher_Windows_x86/Reacher.exe\"`\n",
    "- **Windows** (x86_64): `\"path/to/Reacher_Windows_x86_64/Reacher.exe\"`\n",
    "- **Linux** (x86): `\"path/to/Reacher_Linux/Reacher.x86\"`\n",
    "- **Linux** (x86_64): `\"path/to/Reacher_Linux/Reacher.x86_64\"`\n",
    "- **Linux** (x86, headless): `\"path/to/Reacher_Linux_NoVis/Reacher.x86\"`\n",
    "- **Linux** (x86_64, headless): `\"path/to/Reacher_Linux_NoVis/Reacher.x86_64\"`\n",
    "\n",
    "For instance, if you are using a Mac, then you downloaded `Reacher.app`.  If this file is in the same folder as the notebook, then the line below should appear as follows:\n",
    "```\n",
    "env = UnityEnvironment(file_name=\"Reacher.app\")\n",
    "```"
   ]
  },
  {
   "cell_type": "code",
   "execution_count": 3,
   "metadata": {},
   "outputs": [
    {
     "name": "stderr",
     "output_type": "stream",
     "text": [
      "INFO:unityagents:\n",
      "'Academy' started successfully!\n",
      "Unity Academy name: Academy\n",
      "        Number of Brains: 1\n",
      "        Number of External Brains : 1\n",
      "        Lesson number : 0\n",
      "        Reset Parameters :\n",
      "\t\tgoal_speed -> 1.0\n",
      "\t\tgoal_size -> 5.0\n",
      "Unity brain name: ReacherBrain\n",
      "        Number of Visual Observations (per agent): 0\n",
      "        Vector Observation space type: continuous\n",
      "        Vector Observation space size (per agent): 33\n",
      "        Number of stacked Vector Observation: 1\n",
      "        Vector Action space type: continuous\n",
      "        Vector Action space size (per agent): 4\n",
      "        Vector Action descriptions: , , , \n"
     ]
    }
   ],
   "source": [
    "env = UnityEnvironment(file_name=\"Reacher_1_Windows_x86_64/Reacher.exe\")"
   ]
  },
  {
   "cell_type": "markdown",
   "metadata": {},
   "source": [
    "Environments contain **_brains_** which are responsible for deciding the actions of their associated agents. Here we check for the first brain available, and set it as the default brain we will be controlling from Python."
   ]
  },
  {
   "cell_type": "code",
   "execution_count": 4,
   "metadata": {},
   "outputs": [],
   "source": [
    "# get the default brain\n",
    "brain_name = env.brain_names[0]\n",
    "brain = env.brains[brain_name]"
   ]
  },
  {
   "cell_type": "markdown",
   "metadata": {},
   "source": [
    "### 2. Examine the State and Action Spaces\n",
    "\n",
    "In this environment, a double-jointed arm can move to target locations. A reward of `+0.1` is provided for each step that the agent's hand is in the goal location. Thus, the goal of your agent is to maintain its position at the target location for as many time steps as possible.\n",
    "\n",
    "The observation space consists of `33` variables corresponding to position, rotation, velocity, and angular velocities of the arm.  Each action is a vector with four numbers, corresponding to torque applicable to two joints.  Every entry in the action vector must be a number between `-1` and `1`.\n",
    "\n",
    "Run the code cell below to print some information about the environment."
   ]
  },
  {
   "cell_type": "code",
   "execution_count": 5,
   "metadata": {},
   "outputs": [
    {
     "name": "stdout",
     "output_type": "stream",
     "text": [
      "Number of agents: 1\n",
      "Size of each action: 4\n",
      "There are 1 agents. Each observes a state with length: 33\n",
      "The state for the first agent looks like: [ 0.00000000e+00 -4.00000000e+00  0.00000000e+00  1.00000000e+00\n",
      " -0.00000000e+00 -0.00000000e+00 -4.37113883e-08  0.00000000e+00\n",
      "  0.00000000e+00  0.00000000e+00  0.00000000e+00  0.00000000e+00\n",
      "  0.00000000e+00  0.00000000e+00 -1.00000000e+01  0.00000000e+00\n",
      "  1.00000000e+00 -0.00000000e+00 -0.00000000e+00 -4.37113883e-08\n",
      "  0.00000000e+00  0.00000000e+00  0.00000000e+00  0.00000000e+00\n",
      "  0.00000000e+00  0.00000000e+00  5.75471878e+00 -1.00000000e+00\n",
      "  5.55726671e+00  0.00000000e+00  1.00000000e+00  0.00000000e+00\n",
      " -1.68164849e-01]\n"
     ]
    }
   ],
   "source": [
    "# reset the environment\n",
    "env_info = env.reset(train_mode=True)[brain_name]\n",
    "\n",
    "# number of agents\n",
    "num_agents = len(env_info.agents)\n",
    "print('Number of agents:', num_agents)\n",
    "\n",
    "# size of each action\n",
    "action_size = brain.vector_action_space_size\n",
    "print('Size of each action:', action_size)\n",
    "\n",
    "# examine the state space \n",
    "states = env_info.vector_observations\n",
    "state_size = states.shape[1]\n",
    "print('There are {} agents. Each observes a state with length: {}'.format(states.shape[0], state_size))\n",
    "print('The state for the first agent looks like:', states[0])"
   ]
  },
  {
   "cell_type": "markdown",
   "metadata": {},
   "source": [
    "### 3. Take Random Actions in the Environment\n",
    "\n",
    "In the next code cell, you will learn how to use the Python API to control the agent and receive feedback from the environment.\n",
    "\n",
    "Once this cell is executed, you will watch the agent's performance, if it selects an action at random with each time step.  A window should pop up that allows you to observe the agent, as it moves through the environment.  \n",
    "\n",
    "Of course, as part of the project, you'll have to change the code so that the agent is able to use its experience to gradually choose better actions when interacting with the environment!"
   ]
  },
  {
   "cell_type": "code",
   "execution_count": 6,
   "metadata": {},
   "outputs": [],
   "source": [
    "# env_info = env.reset(train_mode=False)[brain_name]     # reset the environment    \n",
    "# states = env_info.vector_observations                  # get the current state (for each agent)\n",
    "# scores = np.zeros(num_agents)                          # initialize the score (for each agent)\n",
    "# for i in range(100):\n",
    "#     actions = np.random.randn(num_agents, action_size) # select an action (for each agent)\n",
    "#     actions = np.clip(actions, -1, 1)                  # all actions between -1 and 1\n",
    "#     env_info = env.step(actions)[brain_name]           # send all actions to tne environment\n",
    "#     next_states = env_info.vector_observations         # get next state (for each agent)\n",
    "#     rewards = env_info.rewards                         # get reward (for each agent)\n",
    "#     dones = env_info.local_done                        # see if episode finished\n",
    "#     scores += env_info.rewards                         # update the score (for each agent)\n",
    "#     states = next_states                               # roll over states to next time step\n",
    "#     if np.any(dones):                                  # exit loop if episode finished\n",
    "#         break\n",
    "# print('Total score (averaged over agents) this episode: {}'.format(np.mean(scores)))"
   ]
  },
  {
   "cell_type": "markdown",
   "metadata": {},
   "source": [
    "### 4. Training the agent:\n",
    "\n",
    "Now it's your turn to train your own agent to solve the environment!  When training the environment, set `train_mode=True`, so that the line for resetting the environment looks like the following:\n",
    "```python\n",
    "env_info = env.reset(train_mode=True)[brain_name]\n",
    "```"
   ]
  },
  {
   "cell_type": "code",
   "execution_count": 7,
   "metadata": {},
   "outputs": [],
   "source": [
    "from ddpg_agent import Agent  \n",
    "random_seed = 0\n",
    "\n",
    "agent = Agent(state_size, action_size,  random_seed)\n"
   ]
  },
  {
   "cell_type": "code",
   "execution_count": 8,
   "metadata": {},
   "outputs": [
    {
     "name": "stdout",
     "output_type": "stream",
     "text": [
      "Episode 0\tTotal Average Score: 0.98\tCurrent Average Score: 0.98\n",
      "Episode 1\tTotal Average Score: 1.14\tCurrent Average Score: 1.31\n",
      "Episode 2\tTotal Average Score: 0.83\tCurrent Average Score: 0.20\n",
      "Episode 3\tTotal Average Score: 0.95\tCurrent Average Score: 1.32\n",
      "Episode 4\tTotal Average Score: 0.96\tCurrent Average Score: 0.98\n",
      "Episode 5\tTotal Average Score: 0.85\tCurrent Average Score: 0.33\n",
      "Episode 6\tTotal Average Score: 0.87\tCurrent Average Score: 0.97\n",
      "Episode 7\tTotal Average Score: 0.99\tCurrent Average Score: 1.81\n",
      "Episode 8\tTotal Average Score: 1.11\tCurrent Average Score: 2.06\n",
      "Episode 9\tTotal Average Score: 1.08\tCurrent Average Score: 0.86\n",
      "Episode 10\tTotal Average Score: 1.18\tCurrent Average Score: 2.12\n",
      "Episode 11\tTotal Average Score: 1.33\tCurrent Average Score: 2.98\n",
      "Episode 12\tTotal Average Score: 1.43\tCurrent Average Score: 2.73\n",
      "Episode 13\tTotal Average Score: 1.39\tCurrent Average Score: 0.82\n",
      "Episode 14\tTotal Average Score: 1.49\tCurrent Average Score: 2.94\n",
      "Episode 15\tTotal Average Score: 1.60\tCurrent Average Score: 3.12\n",
      "Episode 16\tTotal Average Score: 1.59\tCurrent Average Score: 1.56\n",
      "Episode 17\tTotal Average Score: 1.59\tCurrent Average Score: 1.51\n",
      "Episode 18\tTotal Average Score: 1.59\tCurrent Average Score: 1.57\n",
      "Episode 19\tTotal Average Score: 1.67\tCurrent Average Score: 3.25\n",
      "Episode 20\tTotal Average Score: 1.70\tCurrent Average Score: 2.24\n",
      "Episode 21\tTotal Average Score: 1.69\tCurrent Average Score: 1.60\n",
      "Episode 22\tTotal Average Score: 1.88\tCurrent Average Score: 5.89\n",
      "Episode 23\tTotal Average Score: 1.96\tCurrent Average Score: 3.80\n",
      "Episode 24\tTotal Average Score: 2.01\tCurrent Average Score: 3.42\n",
      "Episode 25\tTotal Average Score: 2.11\tCurrent Average Score: 4.61\n",
      "Episode 26\tTotal Average Score: 2.17\tCurrent Average Score: 3.49\n",
      "Episode 27\tTotal Average Score: 2.19\tCurrent Average Score: 2.89\n",
      "Episode 28\tTotal Average Score: 2.31\tCurrent Average Score: 5.71\n",
      "Episode 29\tTotal Average Score: 2.40\tCurrent Average Score: 4.88\n",
      "Episode 30\tTotal Average Score: 2.44\tCurrent Average Score: 3.65\n",
      "Episode 31\tTotal Average Score: 2.47\tCurrent Average Score: 3.57\n",
      "Episode 32\tTotal Average Score: 2.52\tCurrent Average Score: 4.07\n",
      "Episode 33\tTotal Average Score: 2.59\tCurrent Average Score: 4.69\n",
      "Episode 34\tTotal Average Score: 2.65\tCurrent Average Score: 4.96\n",
      "Episode 35\tTotal Average Score: 2.70\tCurrent Average Score: 4.21\n",
      "Episode 36\tTotal Average Score: 2.75\tCurrent Average Score: 4.64\n",
      "Episode 37\tTotal Average Score: 2.84\tCurrent Average Score: 6.36\n",
      "Episode 38\tTotal Average Score: 2.90\tCurrent Average Score: 4.94\n",
      "Episode 39\tTotal Average Score: 2.98\tCurrent Average Score: 6.06\n",
      "Episode 40\tTotal Average Score: 2.98\tCurrent Average Score: 3.01\n",
      "Episode 41\tTotal Average Score: 3.03\tCurrent Average Score: 4.97\n",
      "Episode 42\tTotal Average Score: 3.12\tCurrent Average Score: 7.11\n",
      "Episode 43\tTotal Average Score: 3.10\tCurrent Average Score: 2.02\n",
      "Episode 44\tTotal Average Score: 3.22\tCurrent Average Score: 8.50\n",
      "Episode 45\tTotal Average Score: 3.25\tCurrent Average Score: 4.82\n",
      "Episode 46\tTotal Average Score: 3.36\tCurrent Average Score: 8.35\n",
      "Episode 47\tTotal Average Score: 3.46\tCurrent Average Score: 8.26\n",
      "Episode 48\tTotal Average Score: 3.57\tCurrent Average Score: 9.00\n",
      "Episode 49\tTotal Average Score: 3.65\tCurrent Average Score: 7.25\n",
      "Episode 50\tTotal Average Score: 3.72\tCurrent Average Score: 7.30\n",
      "Episode 51\tTotal Average Score: 3.83\tCurrent Average Score: 9.63\n",
      "Episode 52\tTotal Average Score: 3.97\tCurrent Average Score: 11.22\n",
      "Episode 53\tTotal Average Score: 4.05\tCurrent Average Score: 8.08\n",
      "Episode 54\tTotal Average Score: 4.17\tCurrent Average Score: 10.60\n",
      "Episode 55\tTotal Average Score: 4.32\tCurrent Average Score: 12.87\n",
      "Episode 56\tTotal Average Score: 4.47\tCurrent Average Score: 12.89\n",
      "Episode 57\tTotal Average Score: 4.64\tCurrent Average Score: 14.12\n",
      "Episode 58\tTotal Average Score: 4.65\tCurrent Average Score: 5.42\n",
      "Episode 59\tTotal Average Score: 4.81\tCurrent Average Score: 13.91\n",
      "Episode 60\tTotal Average Score: 4.96\tCurrent Average Score: 14.12\n",
      "Episode 61\tTotal Average Score: 5.07\tCurrent Average Score: 11.60\n",
      "Episode 62\tTotal Average Score: 5.20\tCurrent Average Score: 13.64\n",
      "Episode 63\tTotal Average Score: 5.30\tCurrent Average Score: 11.53\n",
      "Episode 64\tTotal Average Score: 5.40\tCurrent Average Score: 11.66\n",
      "Episode 65\tTotal Average Score: 5.57\tCurrent Average Score: 16.76\n",
      "Episode 66\tTotal Average Score: 5.70\tCurrent Average Score: 14.34\n",
      "Episode 67\tTotal Average Score: 5.77\tCurrent Average Score: 10.31\n",
      "Episode 68\tTotal Average Score: 5.96\tCurrent Average Score: 18.60\n",
      "Episode 69\tTotal Average Score: 6.05\tCurrent Average Score: 12.57\n",
      "Episode 70\tTotal Average Score: 6.22\tCurrent Average Score: 17.88\n",
      "Episode 71\tTotal Average Score: 6.34\tCurrent Average Score: 14.78\n",
      "Episode 72\tTotal Average Score: 6.48\tCurrent Average Score: 17.11\n",
      "Episode 73\tTotal Average Score: 6.59\tCurrent Average Score: 14.48\n",
      "Episode 74\tTotal Average Score: 6.76\tCurrent Average Score: 18.90\n",
      "Episode 75\tTotal Average Score: 6.87\tCurrent Average Score: 15.27\n",
      "Episode 76\tTotal Average Score: 7.01\tCurrent Average Score: 17.42\n",
      "Episode 77\tTotal Average Score: 7.09\tCurrent Average Score: 13.54\n",
      "Episode 78\tTotal Average Score: 7.25\tCurrent Average Score: 19.61\n",
      "Episode 79\tTotal Average Score: 7.40\tCurrent Average Score: 19.84\n",
      "Episode 80\tTotal Average Score: 7.57\tCurrent Average Score: 20.98\n",
      "Episode 81\tTotal Average Score: 7.70\tCurrent Average Score: 18.04\n",
      "Episode 82\tTotal Average Score: 7.89\tCurrent Average Score: 23.48\n",
      "Episode 83\tTotal Average Score: 8.07\tCurrent Average Score: 23.04\n",
      "Episode 84\tTotal Average Score: 8.15\tCurrent Average Score: 14.59\n",
      "Episode 85\tTotal Average Score: 8.25\tCurrent Average Score: 17.06\n",
      "Episode 86\tTotal Average Score: 8.42\tCurrent Average Score: 22.94\n",
      "Episode 87\tTotal Average Score: 8.52\tCurrent Average Score: 17.29\n",
      "Episode 88\tTotal Average Score: 8.66\tCurrent Average Score: 21.20\n",
      "Episode 89\tTotal Average Score: 8.84\tCurrent Average Score: 24.68\n",
      "Episode 90\tTotal Average Score: 9.02\tCurrent Average Score: 24.97\n",
      "Episode 91\tTotal Average Score: 9.15\tCurrent Average Score: 21.54\n",
      "Episode 92\tTotal Average Score: 9.31\tCurrent Average Score: 24.07\n",
      "Episode 93\tTotal Average Score: 9.42\tCurrent Average Score: 19.14\n",
      "Episode 94\tTotal Average Score: 9.56\tCurrent Average Score: 22.46\n",
      "Episode 95\tTotal Average Score: 9.72\tCurrent Average Score: 24.88\n",
      "Episode 96\tTotal Average Score: 9.82\tCurrent Average Score: 19.48\n",
      "Episode 97\tTotal Average Score: 9.95\tCurrent Average Score: 22.79\n",
      "Episode 98\tTotal Average Score: 10.08\tCurrent Average Score: 22.61\n",
      "Episode 99\tTotal Average Score: 10.19\tCurrent Average Score: 21.10\n",
      "Episode 100\tTotal Average Score: 10.45\tCurrent Average Score: 27.27\n",
      "Episode 101\tTotal Average Score: 10.69\tCurrent Average Score: 25.48\n",
      "Episode 102\tTotal Average Score: 10.91\tCurrent Average Score: 22.51\n",
      "Episode 103\tTotal Average Score: 11.17\tCurrent Average Score: 27.04\n",
      "Episode 104\tTotal Average Score: 11.36\tCurrent Average Score: 20.00\n",
      "Episode 105\tTotal Average Score: 11.64\tCurrent Average Score: 28.24\n",
      "Episode 106\tTotal Average Score: 11.94\tCurrent Average Score: 30.88\n",
      "Episode 107\tTotal Average Score: 12.12\tCurrent Average Score: 19.26\n",
      "Episode 108\tTotal Average Score: 12.33\tCurrent Average Score: 23.69\n",
      "Episode 109\tTotal Average Score: 12.62\tCurrent Average Score: 29.23\n",
      "Episode 110\tTotal Average Score: 12.86\tCurrent Average Score: 26.77\n",
      "Episode 111\tTotal Average Score: 13.11\tCurrent Average Score: 27.79\n",
      "Episode 112\tTotal Average Score: 13.41\tCurrent Average Score: 32.33\n",
      "Episode 113\tTotal Average Score: 13.64\tCurrent Average Score: 23.83\n",
      "Episode 114\tTotal Average Score: 13.91\tCurrent Average Score: 30.29\n",
      "Episode 115\tTotal Average Score: 14.18\tCurrent Average Score: 30.17\n",
      "Episode 116\tTotal Average Score: 14.46\tCurrent Average Score: 30.00\n",
      "Episode 117\tTotal Average Score: 14.73\tCurrent Average Score: 28.26\n",
      "Episode 118\tTotal Average Score: 15.00\tCurrent Average Score: 28.04\n",
      "Episode 119\tTotal Average Score: 15.21\tCurrent Average Score: 24.98\n",
      "Episode 120\tTotal Average Score: 15.49\tCurrent Average Score: 30.20\n",
      "Episode 121\tTotal Average Score: 15.78\tCurrent Average Score: 30.34\n",
      "Episode 122\tTotal Average Score: 15.97\tCurrent Average Score: 24.99\n",
      "Episode 123\tTotal Average Score: 16.26\tCurrent Average Score: 32.94\n",
      "Episode 124\tTotal Average Score: 16.49\tCurrent Average Score: 25.71\n"
     ]
    },
    {
     "name": "stdout",
     "output_type": "stream",
     "text": [
      "Episode 125\tTotal Average Score: 16.77\tCurrent Average Score: 33.31\n",
      "Episode 126\tTotal Average Score: 17.01\tCurrent Average Score: 27.52\n",
      "Episode 127\tTotal Average Score: 17.32\tCurrent Average Score: 33.24\n",
      "Episode 128\tTotal Average Score: 17.58\tCurrent Average Score: 32.51\n",
      "Episode 129\tTotal Average Score: 17.81\tCurrent Average Score: 27.48\n",
      "Episode 130\tTotal Average Score: 18.10\tCurrent Average Score: 32.10\n",
      "Episode 131\tTotal Average Score: 18.37\tCurrent Average Score: 31.44\n",
      "Episode 132\tTotal Average Score: 18.67\tCurrent Average Score: 33.58\n",
      "Episode 133\tTotal Average Score: 18.91\tCurrent Average Score: 29.13\n",
      "Episode 134\tTotal Average Score: 19.18\tCurrent Average Score: 31.20\n",
      "Episode 135\tTotal Average Score: 19.44\tCurrent Average Score: 31.09\n",
      "Episode 136\tTotal Average Score: 19.73\tCurrent Average Score: 32.85\n",
      "Episode 137\tTotal Average Score: 19.98\tCurrent Average Score: 31.83\n",
      "Episode 138\tTotal Average Score: 20.27\tCurrent Average Score: 33.88\n",
      "Episode 139\tTotal Average Score: 20.50\tCurrent Average Score: 28.58\n",
      "Episode 140\tTotal Average Score: 20.80\tCurrent Average Score: 33.19\n",
      "Episode 141\tTotal Average Score: 21.04\tCurrent Average Score: 28.91\n",
      "Episode 142\tTotal Average Score: 21.31\tCurrent Average Score: 34.63\n",
      "Episode 143\tTotal Average Score: 21.62\tCurrent Average Score: 32.51\n",
      "Episode 144\tTotal Average Score: 21.86\tCurrent Average Score: 33.26\n",
      "Episode 145\tTotal Average Score: 22.12\tCurrent Average Score: 29.90\n",
      "Episode 146\tTotal Average Score: 22.29\tCurrent Average Score: 26.16\n",
      "Episode 147\tTotal Average Score: 22.51\tCurrent Average Score: 30.31\n",
      "Episode 148\tTotal Average Score: 22.77\tCurrent Average Score: 34.21\n",
      "Episode 149\tTotal Average Score: 23.01\tCurrent Average Score: 31.60\n",
      "Episode 150\tTotal Average Score: 23.25\tCurrent Average Score: 30.94\n",
      "Episode 151\tTotal Average Score: 23.47\tCurrent Average Score: 31.72\n",
      "Episode 152\tTotal Average Score: 23.68\tCurrent Average Score: 32.72\n",
      "Episode 153\tTotal Average Score: 23.94\tCurrent Average Score: 33.82\n",
      "Episode 154\tTotal Average Score: 24.15\tCurrent Average Score: 31.34\n",
      "Episode 155\tTotal Average Score: 24.33\tCurrent Average Score: 31.37\n",
      "Episode 156\tTotal Average Score: 24.48\tCurrent Average Score: 28.10\n",
      "Episode 157\tTotal Average Score: 24.67\tCurrent Average Score: 32.22\n",
      "Episode 158\tTotal Average Score: 24.93\tCurrent Average Score: 31.42\n",
      "Episode 159\tTotal Average Score: 25.10\tCurrent Average Score: 31.37\n",
      "Episode 160\tTotal Average Score: 25.27\tCurrent Average Score: 31.38\n",
      "Episode 161\tTotal Average Score: 25.42\tCurrent Average Score: 26.58\n",
      "Episode 162\tTotal Average Score: 25.60\tCurrent Average Score: 31.48\n",
      "Episode 163\tTotal Average Score: 25.79\tCurrent Average Score: 30.47\n",
      "Episode 164\tTotal Average Score: 26.00\tCurrent Average Score: 33.00\n",
      "Episode 165\tTotal Average Score: 26.15\tCurrent Average Score: 31.65\n",
      "Episode 166\tTotal Average Score: 26.31\tCurrent Average Score: 29.93\n",
      "Episode 167\tTotal Average Score: 26.52\tCurrent Average Score: 31.63\n",
      "Episode 168\tTotal Average Score: 26.67\tCurrent Average Score: 33.58\n",
      "Episode 169\tTotal Average Score: 26.86\tCurrent Average Score: 31.88\n",
      "Episode 170\tTotal Average Score: 27.00\tCurrent Average Score: 31.38\n",
      "Episode 171\tTotal Average Score: 27.20\tCurrent Average Score: 34.69\n",
      "Episode 172\tTotal Average Score: 27.36\tCurrent Average Score: 33.05\n",
      "Episode 173\tTotal Average Score: 27.53\tCurrent Average Score: 31.75\n",
      "Episode 174\tTotal Average Score: 27.66\tCurrent Average Score: 31.48\n",
      "Episode 175\tTotal Average Score: 27.82\tCurrent Average Score: 32.01\n",
      "Episode 176\tTotal Average Score: 27.99\tCurrent Average Score: 33.68\n",
      "Episode 177\tTotal Average Score: 28.16\tCurrent Average Score: 31.36\n",
      "Episode 178\tTotal Average Score: 28.30\tCurrent Average Score: 32.70\n",
      "Episode 179\tTotal Average Score: 28.40\tCurrent Average Score: 30.20\n",
      "Episode 180\tTotal Average Score: 28.50\tCurrent Average Score: 31.47\n",
      "Episode 181\tTotal Average Score: 28.65\tCurrent Average Score: 32.68\n",
      "Episode 182\tTotal Average Score: 28.74\tCurrent Average Score: 32.37\n",
      "Episode 183\tTotal Average Score: 28.80\tCurrent Average Score: 28.81\n",
      "Episode 184\tTotal Average Score: 28.99\tCurrent Average Score: 34.11\n",
      "Episode 185\tTotal Average Score: 29.15\tCurrent Average Score: 32.62\n",
      "Episode 186\tTotal Average Score: 29.22\tCurrent Average Score: 30.57\n",
      "Episode 187\tTotal Average Score: 29.37\tCurrent Average Score: 31.90\n",
      "Episode 188\tTotal Average Score: 29.47\tCurrent Average Score: 30.95\n",
      "Episode 189\tTotal Average Score: 29.52\tCurrent Average Score: 29.80\n",
      "Episode 190\tTotal Average Score: 29.61\tCurrent Average Score: 33.64\n",
      "Episode 191\tTotal Average Score: 29.71\tCurrent Average Score: 32.48\n",
      "Episode 192\tTotal Average Score: 29.80\tCurrent Average Score: 32.35\n",
      "Episode 193\tTotal Average Score: 29.92\tCurrent Average Score: 31.43\n",
      "Episode 194\tTotal Average Score: 30.01\tCurrent Average Score: 31.31\n",
      "Problem Solved after 194 epsisodes!! Total Average score: 30.01\n"
     ]
    }
   ],
   "source": [
    "def ddpg_run(n_episodes=2000, max_t=500, learn_every=5, num_learn = 10, save_weights_every=100):\n",
    "    total_scores_deque = deque(maxlen=100)\n",
    "    total_scores = [] \n",
    "    \n",
    "    for i_episode in range(n_episodes):\n",
    "        env_info = env.reset(train_mode=True)[brain_name]     \n",
    "        states = env_info.vector_observations                  # get the current state (for each agent)\n",
    "        scores = np.zeros(num_agents)                          # initialize the score (for each agent)\n",
    "        agent.reset()\n",
    "        for t_step in range(max_t):\n",
    "            actions = agent.act(states) \n",
    "            env_info = env.step(actions)[brain_name]\n",
    "            next_states = env_info.vector_observations\n",
    "            env_info = env.step(actions)[brain_name]           # send all actions to tne environment\n",
    "            next_states = env_info.vector_observations         # get next state (for each agent)\n",
    "            rewards = env_info.rewards                         # get reward (for each agent)\n",
    "            dones = env_info.local_done                        # see if episode finished\n",
    "            \n",
    "            for state, action, reward, next_state, done in zip(states, actions, rewards, next_states, dones):\n",
    "                agent.save(state, action, reward, next_state, done)\n",
    "           \n",
    "            \n",
    "            if (t_step % learn_every == 0 and t_step!=0):\n",
    "                for i in range(num_learn):\n",
    "                    agent.start_learn()\n",
    "                \n",
    "            scores += env_info.rewards                         # update the score (for each agent)\n",
    "            states = next_states                               # roll over states to next time step\n",
    "            if np.any(dones):                                  # exit loop if episode finished\n",
    "                break\n",
    "        \n",
    "        mean_score = np.mean(scores)\n",
    "        total_scores_deque.append(mean_score)\n",
    "        total_scores.append(mean_score)\n",
    "        total_average_score = np.mean(total_scores_deque)\n",
    "        \n",
    "        print('\\rEpisode {}\\tTotal Average Score: {:.2f}\\tCurrent Average Score: {:.2f}'\n",
    "              .format(i_episode, total_average_score, mean_score))\n",
    "\n",
    "        if (i_episode % save_weights_every == 0 and i_episode!=0):\n",
    "            torch.save(agent.actor_local.state_dict(), 'checkpoint_actor'+str(i_episode)+'.pth')\n",
    "            torch.save(agent.critic_local.state_dict(), 'checkpoint_critic'+str(i_episode)+'.pth')\n",
    "#             print('\\rEpisode {}\\tTotal Average Score: {:.2f}'.format(i_episode, total_average_score))  \n",
    "            \n",
    "        if total_average_score >= 30:\n",
    "            print('Problem Solved after {} epsisodes!! Total Average score: {:.2f}'.format(i_episode, total_average_score))\n",
    "            torch.save(agent.actor_local.state_dict(), 'checkpoint_actor_final.pth')\n",
    "            torch.save(agent.critic_local.state_dict(), 'checkpoint_critic_final.pth')\n",
    "            break\n",
    "            \n",
    "            \n",
    "    return total_scores\n",
    "\n",
    "scores = ddpg_run(n_episodes = 500, max_t = 1000)"
   ]
  },
  {
   "cell_type": "markdown",
   "metadata": {},
   "source": [
    "Average Score - episode diagram:"
   ]
  },
  {
   "cell_type": "code",
   "execution_count": 10,
   "metadata": {},
   "outputs": [
    {
     "data": {
      "image/png": "[encoded data removed]",
      "text/plain": [
       "<Figure size 432x288 with 1 Axes>"
      ]
     },
     "metadata": {
      "needs_background": "light"
     },
     "output_type": "display_data"
    }
   ],
   "source": [
    "fig = plt.figure()\n",
    "ax = fig.add_subplot(1,1,1)\n",
    "\n",
    "plt.plot(np.arange(1, len(scores)+1), scores)\n",
    "plt.ylabel('Score')\n",
    "plt.xlabel('Episode #')\n",
    "plt.show()\n"
   ]
  },
  {
   "cell_type": "markdown",
   "metadata": {},
   "source": [
    "checking performance of the trained agent:"
   ]
  },
  {
   "cell_type": "code",
   "execution_count": 12,
   "metadata": {},
   "outputs": [],
   "source": [
    "agent2 = Agent(state_size, action_size,  random_seed)\n",
    "\n",
    "agent2.actor_local.load_state_dict(torch.load('checkpoint_actor_final.pth', map_location='cpu'))\n",
    "agent2.critic_local.load_state_dict(torch.load('checkpoint_critic_final.pth', map_location='cpu'))\n",
    "\n",
    "env_info = env.reset(train_mode=False)[brain_name]     \n",
    "states = env_info.vector_observations                  \n",
    "scores = np.zeros(num_agents)                          \n",
    "\n",
    "for t_step in range(300):\n",
    "    actions = agent2.act(states)                        \n",
    "    env_info = env.step(actions)[brain_name]          \n",
    "    next_states = env_info.vector_observations         \n",
    "    rewards = env_info.rewards                         \n",
    "    dones = env_info.local_done                        \n",
    "    scores += env_info.rewards                         \n",
    "    states = next_states                               \n",
    "    if np.any(dones):                                  \n",
    "        break"
   ]
  },
  {
   "cell_type": "code",
   "execution_count": 9,
   "metadata": {},
   "outputs": [],
   "source": [
    "# env.close()"
   ]
  },
  {
   "cell_type": "code",
   "execution_count": null,
   "metadata": {},
   "outputs": [],
   "source": [
    "\n"
   ]
  }
 ],
 "metadata": {
  "kernelspec": {
   "display_name": "Python 3",
   "language": "python",
   "name": "python3"
  },
  "language_info": {
   "codemirror_mode": {
    "name": "ipython",
    "version": 3
   },
   "file_extension": ".py",
   "mimetype": "text/x-python",
   "name": "python",
   "nbconvert_exporter": "python",
   "pygments_lexer": "ipython3",
   "version": "3.6.10"
  }
 },
 "nbformat": 4,
 "nbformat_minor": 2
}
